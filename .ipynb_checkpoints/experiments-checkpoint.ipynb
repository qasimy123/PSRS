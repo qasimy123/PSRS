{
 "cells": [
  {
   "cell_type": "code",
   "execution_count": 3,
   "metadata": {},
   "outputs": [
    {
     "name": "stdout",
     "output_type": "stream",
     "text": [
      "-- Could NOT find Doxygen (missing: DOXYGEN_EXECUTABLE) \n",
      "-- IPO is supported\n",
      "-- Configuring done\n",
      "-- Generating done\n",
      "-- Build files have been written to: /home/qasimkhawaja/PSRS/build\n",
      "[ 20%] Built target engine\n",
      "[ 60%] Built target main\n",
      "[100%] Built target unit_tests\n"
     ]
    }
   ],
   "source": [
    "'''\n",
    "    Setup the project\n",
    "'''\n",
    "# Make directory build if it doesn't exist\n",
    "!mkdir -p build\n",
    "!cd build && cmake .. -DCMAKE_BUILD_TYPE=Release && make\n",
    "\n",
    "# import the necessary packages\n",
    "import os\n",
    "import sys\n",
    "import matplotlib.pyplot as plt\n",
    "import numpy as np\n",
    "import pandas as pd\n",
    "import seaborn as sns"
   ]
  },
  {
   "cell_type": "markdown",
   "metadata": {},
   "source": [
    "# Running PSRS"
   ]
  },
  {
   "cell_type": "code",
   "execution_count": 4,
   "metadata": {},
   "outputs": [
    {
     "name": "stdout",
     "output_type": "stream",
     "text": [
      "['p: 1 n: 1000000 s: 0 useUniprocessor: 1', '181597371']\n"
     ]
    }
   ],
   "source": [
    "def runExperiment(numElements, seed, useUniprocessor, numThreads=1):\n",
    "    '''\n",
    "        Run the experiment\n",
    "    '''\n",
    "    # Run the experiment and capture the results\n",
    "    # `cd build && ./main {numThreads} {numElements} {seed} {useUniprocessor}``\n",
    "    sys.stdout.flush()\n",
    "    result = !cd build && ./main {numThreads} {numElements} {seed} {useUniprocessor}\n",
    "    print(result)\n",
    "runExperiment(1000000, 0, 1)"
   ]
  },
  {
   "cell_type": "code",
   "execution_count": null,
   "metadata": {},
   "outputs": [],
   "source": []
  }
 ],
 "metadata": {
  "kernelspec": {
   "display_name": "Python 3 (ipykernel)",
   "language": "python",
   "name": "python3"
  },
  "language_info": {
   "codemirror_mode": {
    "name": "ipython",
    "version": 3
   },
   "file_extension": ".py",
   "mimetype": "text/x-python",
   "name": "python",
   "nbconvert_exporter": "python",
   "pygments_lexer": "ipython3",
   "version": "3.9.2"
  }
 },
 "nbformat": 4,
 "nbformat_minor": 2
}
