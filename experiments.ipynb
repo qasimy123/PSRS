{
 "cells": [
  {
   "cell_type": "code",
   "execution_count": null,
   "metadata": {},
   "outputs": [],
   "source": [
    "'''\n",
    "    Setup the project\n",
    "'''\n",
    "# Make directory build if it doesn't exist\n",
    "!mkdir -p build\n",
    "!cd build && cmake .. -DCMAKE_BUILD_TYPE=Release && make"
   ]
  },
  {
   "cell_type": "code",
   "execution_count": null,
   "metadata": {},
   "outputs": [],
   "source": [
    "# Install the python packages\n",
    "import os\n",
    "import sys\n",
    "import matplotlib.pyplot as plt\n",
    "import numpy as np\n",
    "import pandas as pd\n",
    "import seaborn as sns"
   ]
  },
  {
   "cell_type": "markdown",
   "metadata": {},
   "source": [
    "# Running PSRS"
   ]
  },
  {
   "cell_type": "code",
   "execution_count": 30,
   "metadata": {},
   "outputs": [],
   "source": [
    "# Helper functions for running the experiments\n",
    "\n",
    "def runProgram(numElements, seed, useUniprocessor, numThreads=1):\n",
    "    '''\n",
    "        Runs the program and capture the results\n",
    "        The command to run is `cd build && ./main {numThreads} {numElements} {seed} {useUniprocessor}`` which outputs\n",
    "        ['p: numThreads n: numElements seed: seed useUniprocessor: useUniprocessor', 'time', 'Success'] where time is in nanoseconds\n",
    "    '''\n",
    "    sys.stdout.flush()\n",
    "    result = !cd build && ./main {numThreads} {numElements} {seed} {useUniprocessor}\n",
    "    assert len(result)==3 and result[2] == 'Success', 'Experiment failed'\n",
    "    time = int(result[1])\n",
    "    return time\n",
    "\n",
    "def collectData(numElements, seed, useUniprocessor, times=7, numThreads=1):\n",
    "    '''\n",
    "        Collects the data by running the program multiple times\n",
    "    '''\n",
    "    data = []\n",
    "    for i in range(times):\n",
    "        newSeed = seed+(i+1)*20\n",
    "        print(f'Running program {i+1}/{times} for numElements={numElements} seed={newSeed} useUniprocessor={useUniprocessor} numThreads={numThreads}')\n",
    "        time = runProgram(numElements, newSeed, useUniprocessor, numThreads)\n",
    "        data.append(time)\n",
    "    return data\n",
    "    \n",
    "def collectMultiprocessorData(numElements, seed, numThreads, lastRuns=5, times=7):\n",
    "    '''\n",
    "        Collects the data for the multiprocessor implementation\n",
    "    '''\n",
    "    assert lastRuns <= times, 'lastRuns should be less than or equal to times'\n",
    "    data = []\n",
    "    time_uniprocessor = collectData(numElements, seed, 1, times)\n",
    "    data.append((1, sum(time_uniprocessor[-lastRuns:])/lastRuns))\n",
    "    for i in range(2, numThreads+1):\n",
    "        time = collectData(numElements, seed, 0, times, i)\n",
    "        # take avg of last x runs\n",
    "        avg = sum(time[-lastRuns:])/lastRuns\n",
    "        data.append([i, avg])\n",
    "    return data\n",
    "\n",
    "def writeToCSV(filename, data, header):\n",
    "    '''\n",
    "        Writes the data to a csv file\n",
    "    '''\n",
    "    df = pd.DataFrame(data, columns=header)\n",
    "    df.to_csv(filename, index=False)\n",
    "    print(f'Wrote data to {filename}')\n",
    "\n",
    "def saveExperimentData(experiment_data, id):\n",
    "    writeToCSV(f'experiment{id}.csv', experiment_data, ['numThreads', 'time'])\n",
    "    experiment_speedup = list(map(lambda x: (x[0], experiment_data[0][1]/x[1]), experiment_data))\n",
    "    writeToCSV(f'experiment{id}_speedup.csv', experiment_speedup, ['numThreads', 'speedup'])\n",
    "    \n",
    "def runAndSaveExperiment(numElements, seed, maxThreads, id):\n",
    "    print(f'Running experiment {id} for numElements={numElements} seed={seed} maxThreads={maxThreads}')\n",
    "    experiment_data = collectMultiprocessorData(numElements, seed, maxThreads)\n",
    "    saveExperimentData(experiment_data, id)\n",
    "    \n",
    "def getExperimentSettings():\n",
    "    MAX_THREADS = 16\n",
    "    seed = 100\n",
    "    numElements = 10000000\n",
    "    NUM_ELEMENTS_MULTIPLIER = 2\n",
    "    experiment_settings = []\n",
    "    SEED_STEP = 13\n",
    "    NUM_EXPERIMENTS = 8\n",
    "    for i in range(1, NUM_EXPERIMENTS):\n",
    "        experiment_settings.append((numElements, seed, MAX_THREADS, i))\n",
    "        numElements = numElements * NUM_ELEMENTS_MULTIPLIER\n",
    "        seed = seed + SEED_STEP\n",
    "    return experiment_settings\n",
    "\n",
    "def runAllExperiments():\n",
    "    experiment_settings = getExperimentSettings()\n",
    "    for experiment in experiment_settings:\n",
    "        runAndSaveExperiment(*experiment)"
   ]
  },
  {
   "cell_type": "code",
   "execution_count": 31,
   "metadata": {},
   "outputs": [
    {
     "name": "stdout",
     "output_type": "stream",
     "text": [
      "Running experiment 1 for numElements=10000000 seed=100 maxThreads=16\n",
      "Running experiment 2 for numElements=20000000 seed=113 maxThreads=16\n",
      "Running experiment 3 for numElements=40000000 seed=126 maxThreads=16\n",
      "Running experiment 4 for numElements=80000000 seed=139 maxThreads=16\n",
      "Running experiment 5 for numElements=160000000 seed=152 maxThreads=16\n",
      "Running experiment 6 for numElements=320000000 seed=165 maxThreads=16\n",
      "Running experiment 7 for numElements=640000000 seed=178 maxThreads=16\n"
     ]
    }
   ],
   "source": [
    "runAllExperiments()"
   ]
  },
  {
   "cell_type": "code",
   "execution_count": null,
   "metadata": {},
   "outputs": [],
   "source": [
    "# Helper functions for plotting the results\n",
    "def plotExperiments(experiments, title, xlabel, ylabel, filename):\n",
    "    '''\n",
    "        Plots the experiments\n",
    "    '''\n",
    "    plt.figure(figsize=(10, 10))\n",
    "    for experiment in experiments:\n",
    "        df = pd.read_csv(experiment)\n",
    "        plt.plot(df['numThreads'], df['time'], label=experiment)\n",
    "    plt.title(title)\n",
    "    plt.xlabel(xlabel)\n",
    "    plt.ylabel(ylabel)\n",
    "    plt.legend()\n",
    "    plt.savefig(filename)"
   ]
  }
 ],
 "metadata": {
  "kernelspec": {
   "display_name": "Python 3 (ipykernel)",
   "language": "python",
   "name": "python3"
  },
  "language_info": {
   "codemirror_mode": {
    "name": "ipython",
    "version": 3
   },
   "file_extension": ".py",
   "mimetype": "text/x-python",
   "name": "python",
   "nbconvert_exporter": "python",
   "pygments_lexer": "ipython3",
   "version": "3.9.2"
  },
  "orig_nbformat": 4
 },
 "nbformat": 4,
 "nbformat_minor": 2
}
